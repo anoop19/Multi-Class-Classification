{
 "cells": [
  {
   "cell_type": "code",
   "execution_count": 1,
   "metadata": {
    "collapsed": false
   },
   "outputs": [
   ],
   "source": [
    "import modeling\n",
    "import optimization\n",
    "import run_classifier\n",
    "import tokenization"
   ]
  },
  {
   "cell_type": "code",
   "execution_count": 2,
   "metadata": {
    "collapsed": false
   },
   "outputs": [
   ],
   "source": [
    "import zipfile\n",
    "folder = 'model_folder'\n",
    "with zipfile.ZipFile(\"uncased_L-12_H-768_A-12.zip\",\"r\") as zip_ref:\n",
    "    zip_ref.extractall(folder)"
   ]
  },
  {
   "cell_type": "code",
   "execution_count": 3,
   "metadata": {
    "collapsed": false
   },
   "outputs": [
    {
     "name": "stdout",
     "output_type": "stream",
     "text": [
      ">> Model output directory: model_folder/outputs\n",
      ">>  BERT pretrained directory: model_folder/uncased_L-12_H-768_A-12\n"
     ]
    }
   ],
   "source": [
    "BERT_MODEL = 'uncased_L-12_H-768_A-12'\n",
    "BERT_PRETRAINED_DIR = f'{folder}/uncased_L-12_H-768_A-12'\n",
    "OUTPUT_DIR = f'{folder}/outputs'\n",
    "print(f'>> Model output directory: {OUTPUT_DIR}')\n",
    "print(f'>>  BERT pretrained directory: {BERT_PRETRAINED_DIR}')"
   ]
  },
  {
   "cell_type": "code",
   "execution_count": 4,
   "metadata": {
    "collapsed": false
   },
   "outputs": [
    {
     "ename": "SystemError",
     "evalue": "GPU device not found",
     "output_type": "error",
     "traceback": [
      "\u001b[0;31m---------------------------------------------------------------------------\u001b[0m",
      "\u001b[0;31mSystemError\u001b[0m                               Traceback (most recent call last)",
      "\u001b[0;32m<ipython-input-4-a532c2b9b173>\u001b[0m in \u001b[0;36m<module>\u001b[0;34m()\u001b[0m\n\u001b[1;32m      3\u001b[0m \u001b[0mdevice_name\u001b[0m \u001b[0;34m=\u001b[0m \u001b[0mtf\u001b[0m\u001b[0;34m.\u001b[0m\u001b[0mtest\u001b[0m\u001b[0;34m.\u001b[0m\u001b[0mgpu_device_name\u001b[0m\u001b[0;34m(\u001b[0m\u001b[0;34m)\u001b[0m\u001b[0;34m\u001b[0m\u001b[0;34m\u001b[0m\u001b[0m\n\u001b[1;32m      4\u001b[0m \u001b[0;32mif\u001b[0m \u001b[0mdevice_name\u001b[0m \u001b[0;34m!=\u001b[0m \u001b[0;34m'/device:GPU:0'\u001b[0m\u001b[0;34m:\u001b[0m\u001b[0;34m\u001b[0m\u001b[0;34m\u001b[0m\u001b[0m\n\u001b[0;32m----> 5\u001b[0;31m   \u001b[0;32mraise\u001b[0m \u001b[0mSystemError\u001b[0m\u001b[0;34m(\u001b[0m\u001b[0;34m'GPU device not found'\u001b[0m\u001b[0;34m)\u001b[0m\u001b[0;34m\u001b[0m\u001b[0;34m\u001b[0m\u001b[0m\n\u001b[0m\u001b[1;32m      6\u001b[0m \u001b[0mprint\u001b[0m\u001b[0;34m(\u001b[0m\u001b[0;34m'Found GPU at: {}'\u001b[0m\u001b[0;34m.\u001b[0m\u001b[0mformat\u001b[0m\u001b[0;34m(\u001b[0m\u001b[0mdevice_name\u001b[0m\u001b[0;34m)\u001b[0m\u001b[0;34m)\u001b[0m\u001b[0;34m\u001b[0m\u001b[0;34m\u001b[0m\u001b[0m\n",
      "\u001b[0;31mSystemError\u001b[0m: GPU device not found"
     ]
    }
   ],
   "source": [
    "import tensorflow as tf\n",
    "\n",
    "device_name = tf.test.gpu_device_name()\n",
    "if device_name != '/device:GPU:0':\n",
    "  raise SystemError('GPU device not found')\n",
    "print('Found GPU at: {}'.format(device_name))"
   ]
  },
  {
   "cell_type": "code",
   "execution_count": 5,
   "metadata": {
    "collapsed": false
   },
   "outputs": [
   ],
   "source": [
    "import pandas as pd\n",
    "import numpy as np\n",
    "from scipy.stats import randint\n",
    "import seaborn as sns # used for plot interactive graph. \n",
    "import matplotlib.pyplot as plt\n",
    "import seaborn as sns\n",
    "from io import StringIO\n",
    "from sklearn.feature_extraction.text import TfidfVectorizer\n",
    "from sklearn.feature_selection import chi2\n",
    "from IPython.display import display\n",
    "from sklearn.model_selection import train_test_split\n",
    "from sklearn.feature_extraction.text import TfidfTransformer\n",
    "from sklearn.naive_bayes import MultinomialNB\n",
    "from sklearn.linear_model import LogisticRegression\n",
    "from sklearn.ensemble import RandomForestClassifier\n",
    "from sklearn.svm import LinearSVC\n",
    "from sklearn.model_selection import cross_val_score\n",
    "from sklearn.metrics import confusion_matrix\n",
    "from sklearn import metrics"
   ]
  },
  {
   "cell_type": "code",
   "execution_count": 6,
   "metadata": {
    "collapsed": false
   },
   "outputs": [
    {
     "name": "stdout",
     "output_type": "stream",
     "text": [
      "Train Data format     uniqueID         drugName                     condition  \\\n",
      "0    163740      Mirtazapine                    Depression   \n",
      "1    206473       Mesalamine  Crohn's Disease, Maintenance   \n",
      "2    159672          Bactrim       Urinary Tract Infection   \n",
      "3     39293         Contrave                   Weight Loss   \n",
      "4     97768  Cyclafem 1 / 35                 Birth Control   \n",
      "\n",
      "                                              review  rating       date  \\\n",
      "0  \"I&#039;ve tried a few antidepressants over th...      10  28-Feb-12   \n",
      "1  \"My son has Crohn&#039;s disease and has done ...       8  17-May-09   \n",
      "2                      \"Quick reduction of symptoms\"       9  29-Sep-17   \n",
      "3  \"Contrave combines drugs that were used for al...       9   5-Mar-17   \n",
      "4  \"I have been on this birth control for one cyc...       9  22-Oct-15   \n",
      "\n",
      "   usefulCount  \n",
      "0           22  \n",
      "1           17  \n",
      "2            3  \n",
      "3           35  \n",
      "4            4  \n",
      "Train Data shape  (53766, 7)\n",
      "Condition count in Train dataset  Birth Control                    9648\n",
      "Depression                       3095\n",
      "Pain                             2100\n",
      "Anxiety                          1908\n",
      "Acne                             1847\n",
      "                                 ... \n",
      "ibrocystic Breast Disease           1\n",
      "Coronary Artery Disease             1\n",
      "Parkinsonism                        1\n",
      "Stress Ulcer Prophylaxis            1\n",
      "Acute Nonlymphocytic Leukemia       1\n",
      "Name: condition, Length: 708, dtype: int64\n",
      "Dataset with columns Condition and review                           condition  \\\n",
      "0                        Depression   \n",
      "1      Crohn's Disease, Maintenance   \n",
      "2           Urinary Tract Infection   \n",
      "3                       Weight Loss   \n",
      "4                     Birth Control   \n",
      "...                             ...   \n",
      "53761     Breast Cancer, Prevention   \n",
      "53762                       Anxiety   \n",
      "53763                 Birth Control   \n",
      "53764                          Pain   \n",
      "53765                      Sciatica   \n",
      "\n",
      "                                                  review  \n",
      "0      \"I&#039;ve tried a few antidepressants over th...  \n",
      "1      \"My son has Crohn&#039;s disease and has done ...  \n",
      "2                          \"Quick reduction of symptoms\"  \n",
      "3      \"Contrave combines drugs that were used for al...  \n",
      "4      \"I have been on this birth control for one cyc...  \n",
      "...                                                  ...  \n",
      "53761  \"I have taken Tamoxifen for 5 years. Side effe...  \n",
      "53762  \"I&#039;ve been taking Lexapro (escitaploprgra...  \n",
      "53763  \"I&#039;m married, 34 years old and I have no ...  \n",
      "53764  \"I was prescribed Nucynta for severe neck/shou...  \n",
      "53765                                      \"It works!!!\"  \n",
      "\n",
      "[53471 rows x 2 columns]\n",
      "Dataset with columns Condition and review dimension  (53471, 2)\n"
     ]
    }
   ],
   "source": [
    "#Open drugreview files\n",
    "df_train=pd.read_csv(\"drugsComTest_raw.csv\")\n",
    "print(\"Train Data format \" ,df_train.head())\n",
    "print(\"Train Data shape \",df_train.shape)\n",
    "print(\"Condition count in Train dataset \", df_train['condition'].value_counts())\n",
    "df_train_cond_rev=df_train[['condition','review']].copy()\n",
    "df_temp=df_train_cond_rev[pd.notnull(df_train_cond_rev['review'])]\n",
    "df_train_fil=df_temp[pd.notnull(df_temp['condition'])]\n",
    "print(\"Dataset with columns Condition and review\" , df_train_fil)\n",
    "print(\"Dataset with columns Condition and review dimension \" ,df_train_fil.shape)\n"
   ]
  },
  {
   "cell_type": "code",
   "execution_count": 7,
   "metadata": {
    "collapsed": false
   },
   "outputs": [
    {
     "name": "stdout",
     "output_type": "stream",
     "text": [
      "Birth Control                    9648\n",
      "Depression                       3095\n",
      "Pain                             2100\n",
      "Anxiety                          1908\n",
      "Acne                             1847\n",
      "                                 ... \n",
      "ibrocystic Breast Disease           1\n",
      "Coronary Artery Disease             1\n",
      "Parkinsonism                        1\n",
      "Stress Ulcer Prophylaxis            1\n",
      "Acute Nonlymphocytic Leukemia       1\n",
      "Name: condition, Length: 708, dtype: int64\n"
     ]
    },
    {
     "data": {
      "text/plain": [
       "Text(0.5, 1.0, 'Top40 : The number of reviews per condition.')"
      ]
     },
     "execution_count": 7,
     "metadata": {
     },
     "output_type": "execute_result"
    },
    {
     "data": {
      "image/png": "[encoded data removed]",
      "text/plain": [
       "<Figure size 1008x432 with 1 Axes>"
      ]
     },
     "execution_count": 7,
     "metadata": {
      "image/png": {
       "height": 512,
       "width": 834
      },
      "needs_background": "light"
     },
     "output_type": "execute_result"
    }
   ],
   "source": [
    "# Data plot based on review and condition\n",
    "df_condition=df_train_fil.condition.value_counts()\n",
    "print(df_condition)\n",
    "df_condition[0:40].plot(kind=\"bar\", figsize = (14,6), fontsize = 10,color=\"green\")\n",
    "plt.xlabel(\"\", fontsize = 20)\n",
    "plt.ylabel(\"\", fontsize = 20)\n",
    "plt.title(\"Top40 : The number of reviews per condition.\", fontsize = 20)\n"
   ]
  },
  {
   "cell_type": "code",
   "execution_count": 8,
   "metadata": {
    "collapsed": false
   },
   "outputs": [
    {
     "data": {
      "text/html": [
       "<div>\n",
       "<style scoped>\n",
       "    .dataframe tbody tr th:only-of-type {\n",
       "        vertical-align: middle;\n",
       "    }\n",
       "\n",
       "    .dataframe tbody tr th {\n",
       "        vertical-align: top;\n",
       "    }\n",
       "\n",
       "    .dataframe thead th {\n",
       "        text-align: right;\n",
       "    }\n",
       "</style>\n",
       "<table border=\"1\" class=\"dataframe\">\n",
       "  <thead>\n",
       "    <tr style=\"text-align: right;\">\n",
       "      <th></th>\n",
       "      <th>condition</th>\n",
       "      <th>review</th>\n",
       "    </tr>\n",
       "  </thead>\n",
       "  <tbody>\n",
       "    <tr>\n",
       "      <td>136</td>\n",
       "      <td>12&lt;/span&gt; users found this comment helpful.</td>\n",
       "      <td>\"I was really worried at first because of all ...</td>\n",
       "    </tr>\n",
       "    <tr>\n",
       "      <td>211</td>\n",
       "      <td>0&lt;/span&gt; users found this comment helpful.</td>\n",
       "      <td>\"I have been off of birth control for 2 years....</td>\n",
       "    </tr>\n",
       "    <tr>\n",
       "      <td>348</td>\n",
       "      <td>6&lt;/span&gt; users found this comment helpful.</td>\n",
       "      <td>\"This medicine is great, our patients no longe...</td>\n",
       "    </tr>\n",
       "    <tr>\n",
       "      <td>368</td>\n",
       "      <td>24&lt;/span&gt; users found this comment helpful.</td>\n",
       "      <td>\"I&amp;#039;ve been taking this since January 2013...</td>\n",
       "    </tr>\n",
       "    <tr>\n",
       "      <td>572</td>\n",
       "      <td>9&lt;/span&gt; users found this comment helpful.</td>\n",
       "      <td>\"I took the pill Friday night and went to bed....</td>\n",
       "    </tr>\n",
       "    <tr>\n",
       "      <td>...</td>\n",
       "      <td>...</td>\n",
       "      <td>...</td>\n",
       "    </tr>\n",
       "    <tr>\n",
       "      <td>52443</td>\n",
       "      <td>3&lt;/span&gt; users found this comment helpful.</td>\n",
       "      <td>\"I have been taking this pill for less than a ...</td>\n",
       "    </tr>\n",
       "    <tr>\n",
       "      <td>53116</td>\n",
       "      <td>5&lt;/span&gt; users found this comment helpful.</td>\n",
       "      <td>\"I got the Mirena put in last month. And holy ...</td>\n",
       "    </tr>\n",
       "    <tr>\n",
       "      <td>53287</td>\n",
       "      <td>21&lt;/span&gt; users found this comment helpful.</td>\n",
       "      <td>\"It was a nightmare.I had the worse side effec...</td>\n",
       "    </tr>\n",
       "    <tr>\n",
       "      <td>53353</td>\n",
       "      <td>28&lt;/span&gt; users found this comment helpful.</td>\n",
       "      <td>\"My 10 year old son took Dulera for asthma.  I...</td>\n",
       "    </tr>\n",
       "    <tr>\n",
       "      <td>53570</td>\n",
       "      <td>5&lt;/span&gt; users found this comment helpful.</td>\n",
       "      <td>\"Wonderful drug, after being on narcotics for ...</td>\n",
       "    </tr>\n",
       "  </tbody>\n",
       "</table>\n",
       "<p>271 rows × 2 columns</p>\n",
       "</div>"
      ],
      "text/plain": [
       "                                         condition  \\\n",
       "136    12</span> users found this comment helpful.   \n",
       "211     0</span> users found this comment helpful.   \n",
       "348     6</span> users found this comment helpful.   \n",
       "368    24</span> users found this comment helpful.   \n",
       "572     9</span> users found this comment helpful.   \n",
       "...                                            ...   \n",
       "52443   3</span> users found this comment helpful.   \n",
       "53116   5</span> users found this comment helpful.   \n",
       "53287  21</span> users found this comment helpful.   \n",
       "53353  28</span> users found this comment helpful.   \n",
       "53570   5</span> users found this comment helpful.   \n",
       "\n",
       "                                                  review  \n",
       "136    \"I was really worried at first because of all ...  \n",
       "211    \"I have been off of birth control for 2 years....  \n",
       "348    \"This medicine is great, our patients no longe...  \n",
       "368    \"I&#039;ve been taking this since January 2013...  \n",
       "572    \"I took the pill Friday night and went to bed....  \n",
       "...                                                  ...  \n",
       "52443  \"I have been taking this pill for less than a ...  \n",
       "53116  \"I got the Mirena put in last month. And holy ...  \n",
       "53287  \"It was a nightmare.I had the worse side effec...  \n",
       "53353  \"My 10 year old son took Dulera for asthma.  I...  \n",
       "53570  \"Wonderful drug, after being on narcotics for ...  \n",
       "\n",
       "[271 rows x 2 columns]"
      ]
     },
     "execution_count": 8,
     "metadata": {
     },
     "output_type": "execute_result"
    }
   ],
   "source": [
    "df_comment = df_train_fil[df_train_fil['condition'].str.contains('comment')]\n",
    "df_comment"
   ]
  },
  {
   "cell_type": "code",
   "execution_count": 9,
   "metadata": {
    "collapsed": false
   },
   "outputs": [
    {
     "name": "stdout",
     "output_type": "stream",
     "text": [
      "(53200, 2)\n"
     ]
    }
   ],
   "source": [
    "# Dropping rows that contain incorrect information \n",
    "\n",
    "df_train_fil = df_train_fil[~df_train_fil['condition'].str.contains('comment')]\n",
    "print(df_train_fil.shape)"
   ]
  },
  {
   "cell_type": "code",
   "execution_count": 10,
   "metadata": {
    "collapsed": false
   },
   "outputs": [
    {
     "name": "stdout",
     "output_type": "stream",
     "text": [
      " Dataset after removal (45312, 2)\n"
     ]
    },
    {
     "data": {
      "text/plain": [
       "Birth Control                 9648\n",
       "Depression                    3095\n",
       "Pain                          2100\n",
       "Anxiety                       1908\n",
       "Acne                          1847\n",
       "                              ... \n",
       "Cough and Nasal Congestion     113\n",
       "Psoriatic Arthritis            112\n",
       "Opiate Withdrawal              107\n",
       "Cold Sores                     105\n",
       "Inflammatory Conditions        103\n",
       "Name: condition, Length: 79, dtype: int64"
      ]
     },
     "execution_count": 10,
     "metadata": {
     },
     "output_type": "execute_result"
    }
   ],
   "source": [
    "value_counts=df_train_fil['condition'].value_counts()\n",
    "# Select the values where the count is less than 3 (or 5 if you like)\n",
    "to_remove = value_counts[value_counts <= 100].index\n",
    "# Keep rows where the city column is not in to_remove\n",
    "df_train_fil = df_train_fil[~df_train_fil.condition.isin(to_remove)]\n",
    "print(\" Dataset after removal\",df_train_fil.shape)\n",
    "df_train_fil.condition.value_counts()"
   ]
  },
  {
   "cell_type": "code",
   "execution_count": 11,
   "metadata": {
    "collapsed": false
   },
   "outputs": [
   ],
   "source": [
    "#df2_train=df_train_fil\n",
    "df2_train = df_train_fil.sample(frac=0.5, replace=True, random_state=1).copy()"
   ]
  },
  {
   "cell_type": "code",
   "execution_count": 12,
   "metadata": {
    "collapsed": false
   },
   "outputs": [
    {
     "name": "stdout",
     "output_type": "stream",
     "text": [
      "['condition' 'review']\n"
     ]
    },
    {
     "data": {
      "text/html": [
       "<div>\n",
       "<style scoped>\n",
       "    .dataframe tbody tr th:only-of-type {\n",
       "        vertical-align: middle;\n",
       "    }\n",
       "\n",
       "    .dataframe tbody tr th {\n",
       "        vertical-align: top;\n",
       "    }\n",
       "\n",
       "    .dataframe thead th {\n",
       "        text-align: right;\n",
       "    }\n",
       "</style>\n",
       "<table border=\"1\" class=\"dataframe\">\n",
       "  <thead>\n",
       "    <tr style=\"text-align: right;\">\n",
       "      <th></th>\n",
       "      <th>condition</th>\n",
       "      <th>review</th>\n",
       "    </tr>\n",
       "  </thead>\n",
       "  <tbody>\n",
       "    <tr>\n",
       "      <td>39199</td>\n",
       "      <td>Anxiety</td>\n",
       "      <td>\"My experience with it.  The medicine works gr...</td>\n",
       "    </tr>\n",
       "    <tr>\n",
       "      <td>14503</td>\n",
       "      <td>Abnormal Uterine Bleeding</td>\n",
       "      <td>\"I switched to this pill about 7-8 months ago ...</td>\n",
       "    </tr>\n",
       "    <tr>\n",
       "      <td>6169</td>\n",
       "      <td>Migraine Prevention</td>\n",
       "      <td>\"Have been taking this for other conditions. S...</td>\n",
       "    </tr>\n",
       "    <tr>\n",
       "      <td>38621</td>\n",
       "      <td>Birth Control</td>\n",
       "      <td>\"I can&amp;#039;t speak on how well this birth con...</td>\n",
       "    </tr>\n",
       "    <tr>\n",
       "      <td>51911</td>\n",
       "      <td>Migraine Prevention</td>\n",
       "      <td>\"I never had &amp;quot;headache&amp;quot; in my life u...</td>\n",
       "    </tr>\n",
       "  </tbody>\n",
       "</table>\n",
       "</div>"
      ],
      "text/plain": [
       "                       condition  \\\n",
       "39199                    Anxiety   \n",
       "14503  Abnormal Uterine Bleeding   \n",
       "6169         Migraine Prevention   \n",
       "38621              Birth Control   \n",
       "51911        Migraine Prevention   \n",
       "\n",
       "                                                  review  \n",
       "39199  \"My experience with it.  The medicine works gr...  \n",
       "14503  \"I switched to this pill about 7-8 months ago ...  \n",
       "6169   \"Have been taking this for other conditions. S...  \n",
       "38621  \"I can&#039;t speak on how well this birth con...  \n",
       "51911  \"I never had &quot;headache&quot; in my life u...  "
      ]
     },
     "execution_count": 12,
     "metadata": {
     },
     "output_type": "execute_result"
    }
   ],
   "source": [
    "print(df2_train.columns.values)\n",
    "df2_train.head()"
   ]
  },
  {
   "cell_type": "code",
   "execution_count": 13,
   "metadata": {
    "collapsed": false
   },
   "outputs": [
   ],
   "source": [
    "#Clean review comments\n",
    "import re\n",
    "import nltk\n",
    "from nltk.corpus import stopwords\n",
    "from bs4 import BeautifulSoup\n",
    "REPLACE_BY_SPACE_RE = re.compile('[/(){}\\[\\]\\|@\\d+]')\n",
    "BAD_SYMBOLS_RE = re.compile('[^0-9a-z00-99 #+_]')\n",
    "add_stop = ['', ' ', 'say', 's', 'u', 'ap', 'afp', '...', 'n', '\\\\','this','will','doctor','took','got','month','an','weight','if','one','week','when','more','are','weeks','are','would','just','feel','day',\n",
    " 'im','though','daily','found','daily','found','give','7','gained','happy','sure','told','less','gave','three',\n",
    " 'side','taking','ive','years','first','effects','take','started','like','months','get','days','time','2','feel','would','3',\n",
    " 'back', 'also','dont','since', 'also','dont','since', 'cant','stop','morning','however','taken','within','see''good','night',\n",
    " 'even','year','great','ago','4','tried','little','5','dose','used','worked','1','getting','could','10','almost','put','6','use',\n",
    " 'nothing','far','helped','normal','gain','recommend','without','long','thing','make','many','noticed','said','ood','best',\n",
    " 'thought','gone','working','couldnt','anything','something','spotting','things','people','second','need','20','way','half',\n",
    " 'start','another','completely','wasnt','everything','8','face','bit','high','worth','definitely','pretty','decided','actually',\n",
    " 'lbs','effective','past','today','helps','heavy','new','may','doesnt','30','minutes','15','problem','dry','came','reviews','shot','issues','trying','switched','depressed','12','full','sometimes','find','meds','change','anyone','caused','thats','results','done','increased','twice','energy','fine','several','hard','read','given','pressure','come','clear','eating','already','insurance','everyone','dosage','mouth','amazing','id','enough','wanted','overall','maybe','began','really','still','never','much','work','went','two','didnt','go','made','works','going','mg','hours','last','ever','lost','lot','try','think','stopped',\n",
    " 'away','know','times','always','havent','next','due','want','around','experienced','finally','able','right','later','different','hour','keep','dr','changed','makes','least','else','difference','seems','needed','product',\n",
    " 'point','soon','absolutely','anymore','usually','drink','free','stay','became','recently','awful','small','hoping','believe','felt','better','good','every','well','help','feeling','prescribed','severe','experience','using','effect','worse','body','old','love','see','symptoms','eat','drive','problems','light','starting','insertion','attacks','hope','bed','plan','negative','crazy','major','9','whole','gotten','quit','removed','extreme','food','pack','lasted','end','patch','everyday','constant','person','25','reason','others','medications','thoughts','24','yet','tell','reading','etc','regular','although','suffered','cause','10mg','along','asleep','wake','remember','medicines','100','doctors','hair','left','immediately','hurt','part','constantly','school','per','highly','burning','mind','break','positive','b','super','slight','big','short','head','notice','probably','cycle','deal','cleared','either','woke','seem','wish','increase','wait','boyfriend','let','four','50','18','wouldnt','scared','23','20mg','quite','stuff','continue','takes','thinking','literally','worry','beginning','might','recommended','treatment','early','plus','experiencing','taste','home','seemed','huge','ended','kept','easy','husband','doc','hungry','suffer','crying','wont','third','switch','except','become','isnt','prescription','making','16','coming','family','40','fall','yes','goes','luck','quickly','entire','2015','currently','looking','fast','glad','fatigue','attack','please','straight','yrs','2nd','can','not','thank','dreams','withdrawal','trouble','3rd','cream','happened','fact','function','care','often','kind','50mg','hate','kids','amount','late','especially','instead','gets','switching','wonderful','issue','changes','losing','chest','saved','broke','level','worried','live','totally','loved','14','lighter','type','active','nearly','age','prior','feels','intense','real','1st','son','45','rather','baby','decreased','improved','slowly','someone','focus','self','lots','size','normally','5mg','hospital','irregular','six','yesterday','nervous','rest','cry','uncomfortable','supposed','hopefully','guess','drinking','procedure','knew','called','improvement','giving','11','34','youre','walk','form','asked','slightly','developed','bathroom','expensive','suggested','17','look','okay','sleepy','ok','eventually','course','add','2016','knee','stick','must','brand','five','sensitive','health','wonders','minor','child','comes','none','breakouts','hasnt','adderall','saw','cost','review','unfortunately','red','100mg','leave','affects','occasional','helping','hot','breakthrough','serious','possible','usual','zero','single','pay','perfect','levels','hell','nights','sad','legs','total','friends','handle','doses','seen','difficult','prep','easily','13','throughout','slept','minimal','god','social','continued','turned','mine','reduced','seeing','strong','term','ready','truly','upset','happen','lasts','unbearable','wrong','rid','mostly','evening','says','unprotected','march','case','children','place','25mg','vyvanse','moderate','awesome','pm','reaction','post','60','female','causing','higher','easier'\n",
    "           'hands',\n",
    " 'realized',\n",
    " 'process',\n",
    " 'sprintec',\n",
    " 'appointment',\n",
    " 'following',\n",
    " 'stopping',\n",
    " 'july',\n",
    " 'spot',\n",
    " 'talk',\n",
    " 'belviq',\n",
    " 'hit',\n",
    " 'test',\n",
    " 'system',\n",
    " 'rate',\n",
    " 'hrs',\n",
    " 'move',\n",
    " 'june',\n",
    " '21',\n",
    " 'inside',\n",
    " 'stayed',\n",
    " '75',\n",
    " 'house',\n",
    " 'ones',\n",
    " 'gives',\n",
    " 'discomfort',\n",
    " 'awake',\n",
    " 'moods',\n",
    " '30mg',\n",
    " 'exactly',\n",
    " 'anyway',\n",
    " 'college',\n",
    " 'hardly',\n",
    " 'tablet',\n",
    " 'quick',\n",
    " 'extra',\n",
    " 'close',\n",
    " '19',\n",
    " 'nice',\n",
    " 'area',\n",
    " 'forget',\n",
    " 'added',\n",
    " 'heard',\n",
    " '40mg',\n",
    " '35',\n",
    " 'finished',\n",
    " 'wear',\n",
    " 'middle',\n",
    " 'unable',\n",
    " 'thanks',\n",
    " 'emotions',\n",
    " 'waking',\n",
    " 'august',\n",
    " 'run',\n",
    " 'method',\n",
    " 'pms',\n",
    " 'basically',\n",
    " 'walking',\n",
    " 'miss',\n",
    " 'matter',\n",
    " 'initially',\n",
    " 'keeps',\n",
    " 'january',\n",
    " 'ate',\n",
    " 'changing',\n",
    " 'previously',\n",
    " 'falling',\n",
    " 'non',\n",
    " 'general',\n",
    " 'ask',\n",
    " 'breaking',\n",
    " 'causes',\n",
    " '2014',\n",
    " 'april',\n",
    " 'update',\n",
    " 'expected',\n",
    " '4th',\n",
    " 'call',\n",
    " 'compared',\n",
    " 'waiting',\n",
    " 'idea',\n",
    " 'complete',\n",
    " 'gaining',\n",
    " 'considering',\n",
    " 'helpful',\n",
    " 'decrease',\n",
    " 'experiences',\n",
    " 'mean',\n",
    " 'subsided',\n",
    " 'placed',\n",
    " 'including',\n",
    " 'tomorrow',\n",
    " 'ten',\n",
    " 'check',\n",
    " 'otherwise',\n",
    " 'cover',\n",
    " 'besides',\n",
    " 'money',\n",
    " 'name',\n",
    " '90',\n",
    " 'option',\n",
    " 'affect',\n",
    " 'enjoy',\n",
    " 'october',\n",
    " 'significant',\n",
    " 'excited',\n",
    " 'top',\n",
    " 'deep',\n",
    " 'differently',\n",
    " '150',\n",
    " 'cup',\n",
    " '22',\n",
    " 'saying','oh','stuck','seriously','pleased','random','flow','dealing','28','clean','racing','bottle','dropped','initial','us','success','living','stand','realize','treat','shots','alone','150mg','looked','december','tender','vivid','occasionally','afterwards','chance','talking','theres','choice','multiple','bought','together','advice','motivation','friend','75mg','write','whatsoever','struggled','sit','world','somewhat','missed','slow','strange','prevent','decision','episodes','room','suggest','near','followed','begin','previous','quality','hated','november','significantly','mention','despite','male','understand','allergic','share','prescribe','greatly','forward','2017','price','similar','related','rarely','meal','finish','september','till','spent','returned','result','february','covered','downside','lasting','arent','200','disappeared','spots','mother','bigger','happens','benefits','important','80','wow','office','severely','manageable','state','wanting','mixed','toilet','26','foods','na','putting','staying','car','withdrawals','tests','adjust','site','keeping','unless','affected','regularly','main','market','effectiveness','concerta','gas','cried','drop','seconds','buy','looks','nurse','true','stories','biggest','dark','afternoon','min','1mg','fairly','sense','regulate','hunger','oral','concentrate','yr','tolerable','300','2013','set','focused','young','excellent','mess','thankful','incredibly','turn','fantastic','comments','medical','exhausted','cons','rough','15mg','300mg','preventing','moved','history','expect','driving','2x','minute','pros','finding','story','wash','56','lol','scale','clots','lay','struggling','moving','figured','follow','ease','lucky','needs','received','flashes','increasing','immediate','shorter','breakout','difficulty','relieved','aware','complaint','ability','suddenly','brown','starts','27','hadnt','empty','online','edge','failed',]\n",
    "\n",
    "STOPWORDS = set(stopwords.words('english'))\n",
    "stop_words=STOPWORDS.union(add_stop)\n",
    "def clean_text(text):\n",
    "    \"\"\"\n",
    "        text: a string\n",
    "        \n",
    "        return: modified initial string\n",
    "    \"\"\"\n",
    "    text = BeautifulSoup(text, \"lxml\").text # HTML decoding\n",
    "    text = text.lower() # lowercase text\n",
    "    text = REPLACE_BY_SPACE_RE.sub(' ', text) # replace REPLACE_BY_SPACE_RE symbols by space in text\n",
    "    text = BAD_SYMBOLS_RE.sub('', text) # delete symbols which are in BAD_SYMBOLS_RE from text\n",
    "    text = ' '.join(word for word in text.split() if word not in stop_words) # delete stopwors from text\n",
    "    return text\n",
    "    \n",
    "df2_train['review'] = df2_train['review'].apply(clean_text)\n",
    "#print_plot(10)\n"
   ]
  },
  {
   "cell_type": "code",
   "execution_count": 15,
   "metadata": {
    "collapsed": false
   },
   "outputs": [
    {
     "data": {
      "text/html": [
       "<div>\n",
       "<style scoped>\n",
       "    .dataframe tbody tr th:only-of-type {\n",
       "        vertical-align: middle;\n",
       "    }\n",
       "\n",
       "    .dataframe tbody tr th {\n",
       "        vertical-align: top;\n",
       "    }\n",
       "\n",
       "    .dataframe thead th {\n",
       "        text-align: right;\n",
       "    }\n",
       "</style>\n",
       "<table border=\"1\" class=\"dataframe\">\n",
       "  <thead>\n",
       "    <tr style=\"text-align: right;\">\n",
       "      <th></th>\n",
       "      <th>condition</th>\n",
       "      <th>review</th>\n",
       "      <th>condition_id</th>\n",
       "    </tr>\n",
       "  </thead>\n",
       "  <tbody>\n",
       "    <tr>\n",
       "      <td>39199</td>\n",
       "      <td>Anxiety</td>\n",
       "      <td>medicine itch relief pruritis anxiety graves d...</td>\n",
       "      <td>0</td>\n",
       "    </tr>\n",
       "    <tr>\n",
       "      <td>14503</td>\n",
       "      <td>Abnormal Uterine Bleeding</td>\n",
       "      <td>pill anxiety heightened angry libido sleep tir...</td>\n",
       "      <td>1</td>\n",
       "    </tr>\n",
       "    <tr>\n",
       "      <td>6169</td>\n",
       "      <td>Migraine Prevention</td>\n",
       "      <td>conditions spotty vision migraines timestopped...</td>\n",
       "      <td>2</td>\n",
       "    </tr>\n",
       "    <tr>\n",
       "      <td>38621</td>\n",
       "      <td>Birth Control</td>\n",
       "      <td>speak birth control placement beforehand horro...</td>\n",
       "      <td>3</td>\n",
       "    </tr>\n",
       "    <tr>\n",
       "      <td>51911</td>\n",
       "      <td>Migraine Prevention</td>\n",
       "      <td>headache life migraine beyond pain debilitatin...</td>\n",
       "      <td>2</td>\n",
       "    </tr>\n",
       "  </tbody>\n",
       "</table>\n",
       "</div>"
      ],
      "text/plain": [
       "                       condition  \\\n",
       "39199                    Anxiety   \n",
       "14503  Abnormal Uterine Bleeding   \n",
       "6169         Migraine Prevention   \n",
       "38621              Birth Control   \n",
       "51911        Migraine Prevention   \n",
       "\n",
       "                                                  review  condition_id  \n",
       "39199  medicine itch relief pruritis anxiety graves d...             0  \n",
       "14503  pill anxiety heightened angry libido sleep tir...             1  \n",
       "6169   conditions spotty vision migraines timestopped...             2  \n",
       "38621  speak birth control placement beforehand horro...             3  \n",
       "51911  headache life migraine beyond pain debilitatin...             2  "
      ]
     },
     "execution_count": 15,
     "metadata": {
     },
     "output_type": "execute_result"
    }
   ],
   "source": [
    "# Create a new column 'category_id' with encoded categories \n",
    "df2_train['condition_id'] = df2_train['condition'].factorize()[0]\n",
    "category_id_df = df2_train[['condition', 'condition_id']].drop_duplicates()\n",
    "\n",
    "\n",
    "# Dictionaries for future use\n",
    "category_to_id = dict(category_id_df.values)\n",
    "id_to_category = dict(category_id_df[['condition_id', 'condition']].values)\n",
    "\n",
    "# New dataframe\n",
    "df2_train.head()"
   ]
  },
  {
   "cell_type": "code",
   "execution_count": 17,
   "metadata": {
    "collapsed": false
   },
   "outputs": [
    {
     "name": "stdout",
     "output_type": "stream",
     "text": [
      "                                                    Text  Label\n",
      "39199  medicine itch relief pruritis anxiety graves d...      0\n",
      "14503  pill anxiety heightened angry libido sleep tir...      1\n",
      "6169   conditions spotty vision migraines timestopped...      2\n",
      "38621  speak birth control placement beforehand horro...      3\n",
      "51911  headache life migraine beyond pain debilitatin...      2\n",
      "...                                                  ...    ...\n",
      "14908  pain relief pain toothache pain migraine headache     11\n",
      "28408  tenuate physician loss options power rn medica...     31\n",
      "33475                   exercise nicer weather ache goal     30\n",
      "6790   microgestin seasonique pregnancy couple nausea...      3\n",
      "34737                                               guys     25\n",
      "\n",
      "[200 rows x 2 columns]\n"
     ]
    }
   ],
   "source": [
    "df3=pd.DataFrame()\n",
    "df3[\"Text\"] = df2_train[\"review\"]\n",
    "df3[\"Label\"] = df2_train[\"condition_id\"]\n",
    "df3=df3[0:200]\n",
    "#df2 = df[:2000]\n",
    "print(df3)"
   ]
  },
  {
   "cell_type": "code",
   "execution_count": 18,
   "metadata": {
    "collapsed": false
   },
   "outputs": [
   ],
   "source": [
    "X_train, X_test, y_train, y_test = train_test_split(df3[\"Text\"].values, df3[\"Label\"].values, test_size=0.2, random_state=42)"
   ]
  },
  {
   "cell_type": "code",
   "execution_count": 19,
   "metadata": {
    "collapsed": false
   },
   "outputs": [
    {
     "name": "stderr",
     "output_type": "stream",
     "text": [
      "W1126 11:09:47.720157 140243047876416 deprecation_wrapper.py:119] From /home/user/tokenization.py:125: The name tf.gfile.GFile is deprecated. Please use tf.io.gfile.GFile instead.\n",
      "\n"
     ]
    },
    {
     "name": "stdout",
     "output_type": "stream",
     "text": [
      "['0', '1', '2', '3', '4', '5', '6', '7', '8', '9', '10', '11', '12', '13', '14', '15', '16', '17', '18', '19', '20', '21', '22', '23', '24', '25', '26', '27', '28', '29', '30', '31', '32', '33', '34', '35', '36', '37', '38', '39', '40', '41', '42', '43', '44', '45', '46', '47', '48', '49', '50', '51', '52', '53', '54', '55', '56', '57', '58', '59', '60', '61', '62', '63', '64', '65', '66', '67', '68', '69', '70', '71', '72', '73', '74', '75', '76', '77', '78', '79']\n"
     ]
    },
    {
     "name": "stderr",
     "output_type": "stream",
     "text": [
      "W1126 11:09:50.989945 140243047876416 lazy_loader.py:50] \n",
      "The TensorFlow contrib module will not be included in TensorFlow 2.0.\n",
      "For more information, please see:\n",
      "  * https://github.com/tensorflow/community/blob/master/rfcs/20180907-contrib-sunset.md\n",
      "  * https://github.com/tensorflow/addons\n",
      "  * https://github.com/tensorflow/io (for I/O related ops)\n",
      "If you depend on functionality not listed there, please file an issue.\n",
      "\n"
     ]
    },
    {
     "name": "stderr",
     "output_type": "stream",
     "text": [
      "W1126 11:09:50.995099 140243047876416 estimator.py:1984] Estimator's model_fn (<function model_fn_builder.<locals>.model_fn at 0x7f8c6cceb1e0>) includes params argument, but params are not passed to Estimator.\n"
     ]
    },
    {
     "name": "stderr",
     "output_type": "stream",
     "text": [
      "W1126 11:09:50.998194 140243047876416 tpu_context.py:211] eval_on_tpu ignored because use_tpu is False.\n"
     ]
    }
   ],
   "source": [
    "import os\n",
    "def create_examples(lines, set_type, labels=None):\n",
    "#Generate data for the BERT model\n",
    "    guid = f'{set_type}'\n",
    "    examples = []\n",
    "    if guid == 'train':\n",
    "        for line, label in zip(lines, labels):\n",
    "            text_a = line\n",
    "            label = str(label)\n",
    "            examples.append(\n",
    "              run_classifier.InputExample(guid=guid, text_a=text_a, text_b=None, label=label))\n",
    "    else:\n",
    "        for line in lines:\n",
    "            text_a = line\n",
    "            label = '0'\n",
    "            examples.append(\n",
    "              run_classifier.InputExample(guid=guid, text_a=text_a, text_b=None, label=label))\n",
    "    return examples\n",
    "\n",
    "# Model Hyper Parameters\n",
    "TRAIN_BATCH_SIZE = 32\n",
    "EVAL_BATCH_SIZE = 8\n",
    "LEARNING_RATE = 1e-5\n",
    "NUM_TRAIN_EPOCHS = 3.0\n",
    "WARMUP_PROPORTION = 0.1\n",
    "MAX_SEQ_LENGTH = 250\n",
    "# Model configs\n",
    "SAVE_CHECKPOINTS_STEPS = 100000 #if you wish to finetune a model on a larger dataset, use larger interval\n",
    "# each checpoint weights about 1,5gb\n",
    "ITERATIONS_PER_LOOP = 100000\n",
    "NUM_TPU_CORES = 8\n",
    "VOCAB_FILE = os.path.join(BERT_PRETRAINED_DIR, 'vocab.txt')\n",
    "CONFIG_FILE = os.path.join(BERT_PRETRAINED_DIR, 'bert_config.json')\n",
    "INIT_CHECKPOINT = os.path.join(BERT_PRETRAINED_DIR, 'bert_model.ckpt')\n",
    "DO_LOWER_CASE = BERT_MODEL.startswith('uncased')\n",
    "\n",
    "label_list = [str(num) for num in range(80)]\n",
    "##Anoop changes\n",
    "print(label_list)\n",
    "tokenizer = tokenization.FullTokenizer(vocab_file=VOCAB_FILE, do_lower_case=DO_LOWER_CASE)\n",
    "train_examples = create_examples(X_train, 'train', labels=y_train)\n",
    "\n",
    "tpu_cluster_resolver = None #Since training will happen on GPU, we won't need a cluster resolver\n",
    "#TPUEstimator also supports training on CPU and GPU. You don't need to define a separate tf.estimator.Estimator.\n",
    "run_config = tf.contrib.tpu.RunConfig(\n",
    "    cluster=tpu_cluster_resolver,\n",
    "    model_dir=OUTPUT_DIR,\n",
    "    save_checkpoints_steps=SAVE_CHECKPOINTS_STEPS,\n",
    "    tpu_config=tf.contrib.tpu.TPUConfig(\n",
    "        iterations_per_loop=ITERATIONS_PER_LOOP,\n",
    "        num_shards=NUM_TPU_CORES,\n",
    "        per_host_input_for_training=tf.contrib.tpu.InputPipelineConfig.PER_HOST_V2))\n",
    "\n",
    "num_train_steps = int(\n",
    "    len(train_examples) / TRAIN_BATCH_SIZE * NUM_TRAIN_EPOCHS)\n",
    "num_warmup_steps = int(num_train_steps * WARMUP_PROPORTION)\n",
    "\n",
    "model_fn = run_classifier.model_fn_builder(\n",
    "    bert_config=modeling.BertConfig.from_json_file(CONFIG_FILE),\n",
    "    num_labels=len(label_list),\n",
    "    init_checkpoint=INIT_CHECKPOINT,\n",
    "    learning_rate=LEARNING_RATE,\n",
    "    num_train_steps=num_train_steps,\n",
    "    num_warmup_steps=num_warmup_steps,\n",
    "    use_tpu=False, #If False training will fall on CPU or GPU, depending on what is available  \n",
    "    use_one_hot_embeddings=True)\n",
    "\n",
    "estimator = tf.contrib.tpu.TPUEstimator(\n",
    "    use_tpu=False, #If False training will fall on CPU or GPU, depending on what is available \n",
    "    model_fn=model_fn,\n",
    "    config=run_config,\n",
    "    train_batch_size=TRAIN_BATCH_SIZE,\n",
    "    eval_batch_size=EVAL_BATCH_SIZE)"
   ]
  },
  {
   "cell_type": "code",
   "execution_count": 20,
   "metadata": {
    "collapsed": false
   },
   "outputs": [
    {
     "name": "stderr",
     "output_type": "stream",
     "text": [
      "W1126 11:09:53.967316 140243047876416 deprecation_wrapper.py:119] From /home/user/run_classifier.py:774: The name tf.logging.info is deprecated. Please use tf.compat.v1.logging.info instead.\n",
      "\n"
     ]
    },
    {
     "name": "stderr",
     "output_type": "stream",
     "text": [
      "W1126 11:09:54.110874 140243047876416 deprecation.py:323] From /ext/anaconda-2019.03/lib/python3.7/site-packages/tensorflow/python/training/training_util.py:236: Variable.initialized_value (from tensorflow.python.ops.variables) is deprecated and will be removed in a future version.\n",
      "Instructions for updating:\n",
      "Use Variable.read_value. Variables in 2.X are initialized automatically both in eager and graph (inside tf.defun) contexts.\n"
     ]
    },
    {
     "name": "stdout",
     "output_type": "stream",
     "text": [
      "['0', '1', '2', '3', '4', '5', '6', '7', '8', '9', '10', '11', '12', '13', '14', '15', '16', '17', '18', '19', '20', '21', '22', '23', '24', '25', '26', '27', '28', '29', '30', '31', '32', '33', '34', '35', '36', '37', '38', '39', '40', '41', '42', '43', '44', '45', '46', '47', '48', '49', '50', '51', '52', '53', '54', '55', '56', '57', '58', '59', '60', '61', '62', '63', '64', '65', '66', '67', '68', '69', '70', '71', '72', '73', '74', '75', '76', '77', '78', '79']\n",
      "Please wait...\n",
      "  Num examples = 160\n",
      "  Batch size = 32\n"
     ]
    },
    {
     "name": "stderr",
     "output_type": "stream",
     "text": [
      "W1126 11:09:54.456364 140243047876416 deprecation_wrapper.py:119] From /home/user/modeling.py:171: The name tf.variable_scope is deprecated. Please use tf.compat.v1.variable_scope instead.\n",
      "\n"
     ]
    },
    {
     "name": "stderr",
     "output_type": "stream",
     "text": [
      "W1126 11:09:54.461235 140243047876416 deprecation_wrapper.py:119] From /home/user/modeling.py:409: The name tf.get_variable is deprecated. Please use tf.compat.v1.get_variable instead.\n",
      "\n"
     ]
    },
    {
     "name": "stderr",
     "output_type": "stream",
     "text": [
      "W1126 11:09:54.542239 140243047876416 deprecation_wrapper.py:119] From /home/user/modeling.py:490: The name tf.assert_less_equal is deprecated. Please use tf.compat.v1.assert_less_equal instead.\n",
      "\n"
     ]
    },
    {
     "name": "stderr",
     "output_type": "stream",
     "text": [
      "W1126 11:09:54.612700 140243047876416 deprecation.py:506] From /home/user/modeling.py:358: calling dropout (from tensorflow.python.ops.nn_ops) with keep_prob is deprecated and will be removed in a future version.\n",
      "Instructions for updating:\n",
      "Please use `rate` instead of `keep_prob`. Rate should be set to `rate = 1 - keep_prob`.\n"
     ]
    },
    {
     "name": "stderr",
     "output_type": "stream",
     "text": [
      "W1126 11:09:54.643762 140243047876416 deprecation.py:323] From /home/user/modeling.py:671: dense (from tensorflow.python.layers.core) is deprecated and will be removed in a future version.\n",
      "Instructions for updating:\n",
      "Use keras.layers.dense instead.\n"
     ]
    },
    {
     "name": "stderr",
     "output_type": "stream",
     "text": [
      "W1126 11:09:58.437281 140243047876416 deprecation_wrapper.py:119] From /home/user/run_classifier.py:647: The name tf.trainable_variables is deprecated. Please use tf.compat.v1.trainable_variables instead.\n",
      "\n"
     ]
    },
    {
     "name": "stderr",
     "output_type": "stream",
     "text": [
      "W1126 11:09:58.442423 140243047876416 deprecation_wrapper.py:119] From /home/user/run_classifier.py:661: The name tf.train.init_from_checkpoint is deprecated. Please use tf.compat.v1.train.init_from_checkpoint instead.\n",
      "\n"
     ]
    },
    {
     "name": "stderr",
     "output_type": "stream",
     "text": [
      "W1126 11:09:59.268885 140243047876416 deprecation_wrapper.py:119] From /home/user/optimization.py:27: The name tf.train.get_or_create_global_step is deprecated. Please use tf.compat.v1.train.get_or_create_global_step instead.\n",
      "\n"
     ]
    },
    {
     "name": "stderr",
     "output_type": "stream",
     "text": [
      "W1126 11:09:59.272111 140243047876416 deprecation_wrapper.py:119] From /home/user/optimization.py:32: The name tf.train.polynomial_decay is deprecated. Please use tf.compat.v1.train.polynomial_decay instead.\n",
      "\n"
     ]
    },
    {
     "name": "stderr",
     "output_type": "stream",
     "text": [
      "W1126 11:09:59.303677 140243047876416 deprecation.py:323] From /ext/anaconda-2019.03/lib/python3.7/site-packages/tensorflow/python/keras/optimizer_v2/learning_rate_schedule.py:409: div (from tensorflow.python.ops.math_ops) is deprecated and will be removed in a future version.\n",
      "Instructions for updating:\n",
      "Deprecated in favor of operator or tf.math.divide.\n"
     ]
    },
    {
     "name": "stderr",
     "output_type": "stream",
     "text": [
      "W1126 11:09:59.572253 140243047876416 deprecation.py:323] From /ext/anaconda-2019.03/lib/python3.7/site-packages/tensorflow/python/ops/math_grad.py:1205: add_dispatch_support.<locals>.wrapper (from tensorflow.python.ops.array_ops) is deprecated and will be removed in a future version.\n",
      "Instructions for updating:\n",
      "Use tf.where in 2.0, which has the same broadcast rule as np.where\n"
     ]
    },
    {
     "name": "stderr",
     "output_type": "stream",
     "text": [
      "W1126 11:10:15.583323 140243047876416 deprecation.py:323] From /ext/anaconda-2019.03/lib/python3.7/site-packages/tensorflow/python/training/saver.py:1276: checkpoint_exists (from tensorflow.python.training.checkpoint_management) is deprecated and will be removed in a future version.\n",
      "Instructions for updating:\n",
      "Use standard file APIs to check for files with this prefix.\n"
     ]
    },
    {
     "name": "stderr",
     "output_type": "stream",
     "text": [
      "W1126 11:10:23.025374 140243047876416 deprecation.py:323] From /ext/anaconda-2019.03/lib/python3.7/site-packages/tensorflow/python/training/saver.py:1066: get_checkpoint_mtimes (from tensorflow.python.training.checkpoint_management) is deprecated and will be removed in a future version.\n",
      "Instructions for updating:\n",
      "Use standard file utilities to get mtimes.\n"
     ]
    }
   ],
   "source": [
    "##Anoop changes\n",
    "from datetime import time\n",
    "print(label_list)\n",
    "print('Please wait...')\n",
    "train_features = run_classifier.convert_examples_to_features(\n",
    "    train_examples, label_list, MAX_SEQ_LENGTH, tokenizer)\n",
    "#print('>> Started training at {} '.format(datetime.datetime.now()))\n",
    "print('  Num examples = {}'.format(len(train_examples)))\n",
    "print('  Batch size = {}'.format(TRAIN_BATCH_SIZE))\n",
    "tf.logging.info(\"  Num steps = %d\", num_train_steps)\n",
    "train_input_fn = run_classifier.input_fn_builder(\n",
    "    features=train_features,\n",
    "    seq_length=MAX_SEQ_LENGTH,\n",
    "    is_training=True,\n",
    "    drop_remainder=True)\n",
    "estimator.train(input_fn=train_input_fn, max_steps=num_train_steps)\n",
    "print('>> Finished training at {}'.format(datetime.datetime.now()))"
   ]
  },
  {
   "cell_type": "code",
   "execution_count": 0,
   "metadata": {
    "collapsed": false
   },
   "outputs": [
   ],
   "source": [
   ]
  }
 ],
 "metadata": {
  "kernelspec": {
   "display_name": "Python 3 (Anaconda 5)",
   "env": {
    "LD_LIBRARY_PATH": "/ext/anaconda5/lib",
    "PROJ_LIB": "/ext/anaconda-2019.03/share/proj",
    "PYTHONHOME": "/ext/anaconda5/lib/python3.5",
    "PYTHONPATH": "/ext/anaconda5/lib/python3.5:/ext/anaconda5/lib/python3.5/site-packages"
   },
   "language": "python",
   "metadata": {
    "cocalc": {
     "description": "Python/R distribution for data science",
     "priority": -1,
     "url": "https://www.anaconda.com/distribution/"
    }
   },
   "name": "anaconda5"
  },
  "language_info": {
   "codemirror_mode": {
    "name": "ipython",
    "version": 3
   },
   "file_extension": ".py",
   "mimetype": "text/x-python",
   "name": "python",
   "nbconvert_exporter": "python",
   "pygments_lexer": "ipython3",
   "version": "3.6.7"
  }
 },
 "nbformat": 4,
 "nbformat_minor": 0
}