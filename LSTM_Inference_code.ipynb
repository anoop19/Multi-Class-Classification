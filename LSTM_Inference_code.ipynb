{
  "nbformat": 4,
  "nbformat_minor": 0,
  "metadata": {
    "colab": {
      "name": "Untitled1.ipynb",
      "provenance": [],
      "include_colab_link": true
    },
    "kernelspec": {
      "name": "python3",
      "display_name": "Python 3"
    },
    "accelerator": "GPU"
  },
  "cells": [
    {
      "cell_type": "markdown",
      "metadata": {
        "id": "view-in-github",
        "colab_type": "text"
      },
      "source": [
        "<a href=\"https://colab.research.google.com/github/anoop19/Multi-Class-Classification/blob/master/LSTM_Inference_code.ipynb\" target=\"_parent\"><img src=\"https://colab.research.google.com/assets/colab-badge.svg\" alt=\"Open In Colab\"/></a>"
      ]
    },
    {
      "cell_type": "markdown",
      "metadata": {
        "id": "d9sC7ULZ8Qy8",
        "colab_type": "text"
      },
      "source": [
        "** Inference code for MultiClassificationLSTM.ipynb**\n",
        "# Input file :- \n",
        "#1) Trained model LSTM_model.sav\n",
        "#2) LSTM_testdata.pkl\n",
        "\n",
        "#Please include files from HCL sharedrive"
      ]
    },
    {
      "cell_type": "code",
      "metadata": {
        "id": "VHlk8Fngof3-",
        "colab_type": "code",
        "colab": {
          "base_uri": "https://localhost:8080/",
          "height": 306
        },
        "outputId": "90b45acd-5685-454a-94cf-16265e37ae8c"
      },
      "source": [
        "import pickle as pkl\n",
        "filename = 'LSTM_model.sav'\n",
        "loaded_model = pkl.load(open(filename, 'rb'))\n",
        "loaded_model.compile(loss='categorical_crossentropy', optimizer='adam', metrics=['accuracy'])\n",
        "print(loaded_model.summary())\n"
      ],
      "execution_count": 15,
      "outputs": [
        {
          "output_type": "stream",
          "text": [
            "Model: \"sequential_1\"\n",
            "_________________________________________________________________\n",
            "Layer (type)                 Output Shape              Param #   \n",
            "=================================================================\n",
            "embedding_1 (Embedding)      (None, 250, 100)          5000000   \n",
            "_________________________________________________________________\n",
            "spatial_dropout1d_1 (Spatial (None, 250, 100)          0         \n",
            "_________________________________________________________________\n",
            "lstm_1 (LSTM)                (None, 100)               80400     \n",
            "_________________________________________________________________\n",
            "dense_1 (Dense)              (None, 33)                3333      \n",
            "=================================================================\n",
            "Total params: 5,083,733\n",
            "Trainable params: 5,083,733\n",
            "Non-trainable params: 0\n",
            "_________________________________________________________________\n",
            "None\n"
          ],
          "name": "stdout"
        }
      ]
    },
    {
      "cell_type": "markdown",
      "metadata": {
        "id": "w_n9IGEczZtH",
        "colab_type": "text"
      },
      "source": [
        ""
      ]
    },
    {
      "cell_type": "markdown",
      "metadata": {
        "id": "9rnWepzAzXfI",
        "colab_type": "text"
      },
      "source": [
        ""
      ]
    },
    {
      "cell_type": "code",
      "metadata": {
        "id": "sI8v3yEXykQ9",
        "colab_type": "code",
        "colab": {}
      },
      "source": [
        "\n",
        "with open(\"LSTM_testdata.pkl\", \"rb\") as f:\n",
        "    X_test,Y_test= pkl.load(f)"
      ],
      "execution_count": 0,
      "outputs": []
    },
    {
      "cell_type": "code",
      "metadata": {
        "id": "aq2MEvYcwL1c",
        "colab_type": "code",
        "colab": {
          "base_uri": "https://localhost:8080/",
          "height": 85
        },
        "outputId": "f47005b6-546e-42a7-e65c-c7f7acdd6580"
      },
      "source": [
        "accr = loaded_model.evaluate(X_test,Y_test)\n",
        "print('Test set\\n  Loss: {:0.3f}\\n  Accuracy: {:0.3f}'.format(accr[0],accr[1]))"
      ],
      "execution_count": 18,
      "outputs": [
        {
          "output_type": "stream",
          "text": [
            "7135/7135 [==============================] - 46s 6ms/step\n",
            "Test set\n",
            "  Loss: 0.639\n",
            "  Accuracy: 0.818\n"
          ],
          "name": "stdout"
        }
      ]
    }
  ]
}